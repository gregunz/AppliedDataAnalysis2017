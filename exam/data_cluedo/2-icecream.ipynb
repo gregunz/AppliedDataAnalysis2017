{
 "cells": [
  {
   "cell_type": "markdown",
   "metadata": {
    "toc": true
   },
   "source": [
    "<h1>Table of Contents<span class=\"tocSkip\"></span></h1>\n",
    "<div class=\"toc\" style=\"margin-top: 1em;\"><ul class=\"toc-item\"><li><span><a href=\"#Ice-Cream\" data-toc-modified-id=\"Ice-Cream-1\">Ice Cream</a></span><ul class=\"toc-item\"><li><ul class=\"toc-item\"><li><span><a href=\"#Instructions-/-Notes:\" data-toc-modified-id=\"Instructions-/-Notes:-1.0.1\">Instructions / Notes:</a></span></li><li><span><a href=\"#The-dataset-above-contains-the-ice-cream-sales,-temperature,-number-of-deaths-by-drowning-and-humidity-level-in-a-city-during-a-timespan-of-12-months.\" data-toc-modified-id=\"The-dataset-above-contains-the-ice-cream-sales,-temperature,-number-of-deaths-by-drowning-and-humidity-level-in-a-city-during-a-timespan-of-12-months.-1.0.2\">The dataset above contains the ice cream sales, temperature, number of deaths by drowning and humidity level in a city during a timespan of 12 months.</a></span></li></ul></li><li><span><a href=\"#Clue\" data-toc-modified-id=\"Clue-1.1\">Clue</a></span><ul class=\"toc-item\"><li><span><a href=\"#Some-of-the-correlations-you-found-above-may-be-spurious:-https://en.wikipedia.org/wiki/Spurious_relationship----Only-include-meaningful-correlations-to-the-list!\" data-toc-modified-id=\"Some-of-the-correlations-you-found-above-may-be-spurious:-https://en.wikipedia.org/wiki/Spurious_relationship----Only-include-meaningful-correlations-to-the-list!-1.1.1\">Some of the correlations you found above may be spurious: <a href=\"https://en.wikipedia.org/wiki/Spurious_relationship\" target=\"_blank\">https://en.wikipedia.org/wiki/Spurious_relationship</a> -- Only include meaningful correlations to the list!</a></span></li></ul></li></ul></li></ul></div>"
   ]
  },
  {
   "cell_type": "markdown",
   "metadata": {},
   "source": [
    "Ice Cream\n",
    "=============\n",
    "\n",
    "\n",
    "### Instructions / Notes:\n",
    "\n",
    "**_Read these carefully_**\n",
    "\n",
    "* Read and execute each cell in order, without skipping forward\n",
    "* You **may** create new Jupyter notebook cells to use for e.g. testing, debugging, exploring, etc.- this is encouraged in fact!- **just make sure that your final answer dataframes and answers use the set variables outlined below**\n",
    "* _Have fun!_"
   ]
  },
  {
   "cell_type": "code",
   "execution_count": 1,
   "metadata": {
    "scrolled": true
   },
   "outputs": [
    {
     "data": {
      "text/html": [
       "<div>\n",
       "<style>\n",
       "    .dataframe thead tr:only-child th {\n",
       "        text-align: right;\n",
       "    }\n",
       "\n",
       "    .dataframe thead th {\n",
       "        text-align: left;\n",
       "    }\n",
       "\n",
       "    .dataframe tbody tr th {\n",
       "        vertical-align: top;\n",
       "    }\n",
       "</style>\n",
       "<table border=\"1\" class=\"dataframe\">\n",
       "  <thead>\n",
       "    <tr style=\"text-align: right;\">\n",
       "      <th></th>\n",
       "      <th>month</th>\n",
       "      <th>ice_cream_sales</th>\n",
       "      <th>temperature</th>\n",
       "      <th>deaths_drowning</th>\n",
       "      <th>humidity</th>\n",
       "    </tr>\n",
       "  </thead>\n",
       "  <tbody>\n",
       "    <tr>\n",
       "      <th>0</th>\n",
       "      <td>12</td>\n",
       "      <td>4.75</td>\n",
       "      <td>40</td>\n",
       "      <td>2</td>\n",
       "      <td>30</td>\n",
       "    </tr>\n",
       "    <tr>\n",
       "      <th>1</th>\n",
       "      <td>11</td>\n",
       "      <td>4.78</td>\n",
       "      <td>50</td>\n",
       "      <td>3</td>\n",
       "      <td>20</td>\n",
       "    </tr>\n",
       "    <tr>\n",
       "      <th>2</th>\n",
       "      <td>1</td>\n",
       "      <td>4.82</td>\n",
       "      <td>55</td>\n",
       "      <td>4</td>\n",
       "      <td>70</td>\n",
       "    </tr>\n",
       "    <tr>\n",
       "      <th>3</th>\n",
       "      <td>2</td>\n",
       "      <td>4.83</td>\n",
       "      <td>58</td>\n",
       "      <td>4</td>\n",
       "      <td>70</td>\n",
       "    </tr>\n",
       "    <tr>\n",
       "      <th>4</th>\n",
       "      <td>3</td>\n",
       "      <td>4.84</td>\n",
       "      <td>60</td>\n",
       "      <td>5</td>\n",
       "      <td>20</td>\n",
       "    </tr>\n",
       "    <tr>\n",
       "      <th>5</th>\n",
       "      <td>10</td>\n",
       "      <td>4.88</td>\n",
       "      <td>55</td>\n",
       "      <td>6</td>\n",
       "      <td>30</td>\n",
       "    </tr>\n",
       "    <tr>\n",
       "      <th>6</th>\n",
       "      <td>5</td>\n",
       "      <td>4.91</td>\n",
       "      <td>68</td>\n",
       "      <td>9</td>\n",
       "      <td>20</td>\n",
       "    </tr>\n",
       "    <tr>\n",
       "      <th>7</th>\n",
       "      <td>9</td>\n",
       "      <td>4.92</td>\n",
       "      <td>70</td>\n",
       "      <td>9</td>\n",
       "      <td>10</td>\n",
       "    </tr>\n",
       "    <tr>\n",
       "      <th>8</th>\n",
       "      <td>4</td>\n",
       "      <td>4.93</td>\n",
       "      <td>75</td>\n",
       "      <td>8</td>\n",
       "      <td>50</td>\n",
       "    </tr>\n",
       "    <tr>\n",
       "      <th>9</th>\n",
       "      <td>7</td>\n",
       "      <td>4.93</td>\n",
       "      <td>80</td>\n",
       "      <td>11</td>\n",
       "      <td>10</td>\n",
       "    </tr>\n",
       "    <tr>\n",
       "      <th>10</th>\n",
       "      <td>6</td>\n",
       "      <td>4.94</td>\n",
       "      <td>83</td>\n",
       "      <td>12</td>\n",
       "      <td>90</td>\n",
       "    </tr>\n",
       "    <tr>\n",
       "      <th>11</th>\n",
       "      <td>8</td>\n",
       "      <td>4.95</td>\n",
       "      <td>88</td>\n",
       "      <td>11</td>\n",
       "      <td>50</td>\n",
       "    </tr>\n",
       "  </tbody>\n",
       "</table>\n",
       "</div>"
      ],
      "text/plain": [
       "    month  ice_cream_sales  temperature  deaths_drowning  humidity\n",
       "0      12             4.75           40                2        30\n",
       "1      11             4.78           50                3        20\n",
       "2       1             4.82           55                4        70\n",
       "3       2             4.83           58                4        70\n",
       "4       3             4.84           60                5        20\n",
       "5      10             4.88           55                6        30\n",
       "6       5             4.91           68                9        20\n",
       "7       9             4.92           70                9        10\n",
       "8       4             4.93           75                8        50\n",
       "9       7             4.93           80               11        10\n",
       "10      6             4.94           83               12        90\n",
       "11      8             4.95           88               11        50"
      ]
     },
     "execution_count": 1,
     "metadata": {},
     "output_type": "execute_result"
    }
   ],
   "source": [
    "# Run the following to import necessary packages and import dataset. Do not use any additional plotting libraries.\n",
    "import pandas as pd\n",
    "import numpy as np\n",
    "import matplotlib\n",
    "import matplotlib.pyplot as plt\n",
    "matplotlib.style.use('ggplot')\n",
    "datafile = \"dataset/icecream.csv\"\n",
    "df = pd.read_csv(datafile)\n",
    "df"
   ]
  },
  {
   "cell_type": "markdown",
   "metadata": {},
   "source": [
    "### The dataset above contains the ice cream sales, temperature, number of deaths by drowning and humidity level in a city during a timespan of 12 months."
   ]
  },
  {
   "cell_type": "code",
   "execution_count": 19,
   "metadata": {},
   "outputs": [
    {
     "data": {
      "text/html": [
       "<div>\n",
       "<style>\n",
       "    .dataframe thead tr:only-child th {\n",
       "        text-align: right;\n",
       "    }\n",
       "\n",
       "    .dataframe thead th {\n",
       "        text-align: left;\n",
       "    }\n",
       "\n",
       "    .dataframe tbody tr th {\n",
       "        vertical-align: top;\n",
       "    }\n",
       "</style>\n",
       "<table border=\"1\" class=\"dataframe\">\n",
       "  <thead>\n",
       "    <tr style=\"text-align: right;\">\n",
       "      <th></th>\n",
       "      <th>month</th>\n",
       "      <th>ice_cream_sales</th>\n",
       "      <th>temperature</th>\n",
       "      <th>deaths_drowning</th>\n",
       "      <th>humidity</th>\n",
       "    </tr>\n",
       "  </thead>\n",
       "  <tbody>\n",
       "    <tr>\n",
       "      <th>month</th>\n",
       "      <td>1.000000</td>\n",
       "      <td>-0.164441</td>\n",
       "      <td>-0.207638</td>\n",
       "      <td>-0.051340</td>\n",
       "      <td>-0.481519</td>\n",
       "    </tr>\n",
       "    <tr>\n",
       "      <th>ice_cream_sales</th>\n",
       "      <td>-0.164441</td>\n",
       "      <td>1.000000</td>\n",
       "      <td>0.937996</td>\n",
       "      <td>0.952490</td>\n",
       "      <td>0.083232</td>\n",
       "    </tr>\n",
       "    <tr>\n",
       "      <th>temperature</th>\n",
       "      <td>-0.207638</td>\n",
       "      <td>0.937996</td>\n",
       "      <td>1.000000</td>\n",
       "      <td>0.950942</td>\n",
       "      <td>0.191497</td>\n",
       "    </tr>\n",
       "    <tr>\n",
       "      <th>deaths_drowning</th>\n",
       "      <td>-0.051340</td>\n",
       "      <td>0.952490</td>\n",
       "      <td>0.950942</td>\n",
       "      <td>1.000000</td>\n",
       "      <td>0.080003</td>\n",
       "    </tr>\n",
       "    <tr>\n",
       "      <th>humidity</th>\n",
       "      <td>-0.481519</td>\n",
       "      <td>0.083232</td>\n",
       "      <td>0.191497</td>\n",
       "      <td>0.080003</td>\n",
       "      <td>1.000000</td>\n",
       "    </tr>\n",
       "  </tbody>\n",
       "</table>\n",
       "</div>"
      ],
      "text/plain": [
       "                    month  ice_cream_sales  temperature  deaths_drowning  \\\n",
       "month            1.000000        -0.164441    -0.207638        -0.051340   \n",
       "ice_cream_sales -0.164441         1.000000     0.937996         0.952490   \n",
       "temperature     -0.207638         0.937996     1.000000         0.950942   \n",
       "deaths_drowning -0.051340         0.952490     0.950942         1.000000   \n",
       "humidity        -0.481519         0.083232     0.191497         0.080003   \n",
       "\n",
       "                 humidity  \n",
       "month           -0.481519  \n",
       "ice_cream_sales  0.083232  \n",
       "temperature      0.191497  \n",
       "deaths_drowning  0.080003  \n",
       "humidity         1.000000  "
      ]
     },
     "execution_count": 19,
     "metadata": {},
     "output_type": "execute_result"
    }
   ],
   "source": [
    "# Here are the correlation coefficients between pairs of columns\n",
    "corr = df.corr()\n",
    "corr"
   ]
  },
  {
   "cell_type": "code",
   "execution_count": 60,
   "metadata": {},
   "outputs": [],
   "source": [
    "abs_corr = np.abs(df.corr())\n",
    "\n",
    "indices = corr.index\n",
    "corr_pairs = []\n",
    "\n",
    "for i, idx_i in enumerate(indices):\n",
    "    for j, c in enumerate(abs_corr[idx_i]):\n",
    "        if c > .9 and i < j:\n",
    "            corr_pairs.append((idx_i, indices[j]))"
   ]
  },
  {
   "cell_type": "code",
   "execution_count": 61,
   "metadata": {},
   "outputs": [
    {
     "data": {
      "text/plain": [
       "[('ice_cream_sales', 'temperature'),\n",
       " ('ice_cream_sales', 'deaths_drowning'),\n",
       " ('temperature', 'deaths_drowning')]"
      ]
     },
     "execution_count": 61,
     "metadata": {},
     "output_type": "execute_result"
    }
   ],
   "source": [
    "corr_pairs"
   ]
  },
  {
   "cell_type": "markdown",
   "metadata": {},
   "source": [
    "Identify **strong** (i.e., correleation coefficient > 0.9) and **meaningful** correlations among pairs of columns in this dataset. \n",
    "Append these pairs of correlated columns in the following form ```[column_x, column_y]``` to the variable below. "
   ]
  },
  {
   "cell_type": "code",
   "execution_count": 7,
   "metadata": {},
   "outputs": [
    {
     "name": "stdout",
     "output_type": "stream",
     "text": [
      "[['ice_cream_sales', 'temperature']]\n"
     ]
    }
   ],
   "source": [
    "correlations = []\n",
    "correlations.append(['ice_cream_sales', 'temperature'])\n",
    "\n",
    "# do not touch\n",
    "correlations.sort()\n",
    "print(correlations)"
   ]
  },
  {
   "cell_type": "markdown",
   "metadata": {},
   "source": [
    "## Clue\n",
    "\n",
    "### Some of the correlations you found above may be spurious: https://en.wikipedia.org/wiki/Spurious_relationship -- Only include meaningful correlations to the list!\n",
    "If this clue changes your answer, try again below. Otherwise, if you are confident in your answer above, leave the following untouched."
   ]
  },
  {
   "cell_type": "code",
   "execution_count": null,
   "metadata": {},
   "outputs": [],
   "source": [
    "# meaningful_correlation.append(['column_x', 'column_y'])\n",
    "correlations_clue = []\n",
    "\n",
    "# do not touch\n",
    "correlations_clue.sort()\n",
    "print(correlations_clue)"
   ]
  }
 ],
 "metadata": {
  "anaconda-cloud": {},
  "kernelspec": {
   "display_name": "Python 3",
   "language": "python",
   "name": "python3"
  },
  "language_info": {
   "codemirror_mode": {
    "name": "ipython",
    "version": 3
   },
   "file_extension": ".py",
   "mimetype": "text/x-python",
   "name": "python",
   "nbconvert_exporter": "python",
   "pygments_lexer": "ipython3",
   "version": "3.6.1"
  },
  "toc": {
   "nav_menu": {},
   "number_sections": false,
   "sideBar": true,
   "skip_h1_title": false,
   "toc_cell": true,
   "toc_position": {},
   "toc_section_display": "block",
   "toc_window_display": false
  }
 },
 "nbformat": 4,
 "nbformat_minor": 2
}

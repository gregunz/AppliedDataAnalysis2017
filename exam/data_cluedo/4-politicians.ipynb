{
 "cells": [
  {
   "cell_type": "markdown",
   "metadata": {
    "toc": true
   },
   "source": [
    "<h1>Table of Contents<span class=\"tocSkip\"></span></h1>\n",
    "<div class=\"toc\" style=\"margin-top: 1em;\"><ul class=\"toc-item\"><li><span><a href=\"#Politicians-Module\" data-toc-modified-id=\"Politicians-Module-1\">Politicians Module</a></span><ul class=\"toc-item\"><li><ul class=\"toc-item\"><li><span><a href=\"#Instructions-/-Notes:\" data-toc-modified-id=\"Instructions-/-Notes:-1.0.1\">Instructions / Notes:</a></span></li></ul></li><li><span><a href=\"#Try-to-find-publishable-(i.e.,-statistically-significant)-results-about-the-U.S.-economy-and-which-politicians-are-in-charge\" data-toc-modified-id=\"Try-to-find-publishable-(i.e.,-statistically-significant)-results-about-the-U.S.-economy-and-which-politicians-are-in-charge-1.1\">Try to find publishable (i.e., statistically significant) results about the U.S. economy and which politicians are in charge</a></span></li><li><span><a href=\"#Clue\" data-toc-modified-id=\"Clue-1.2\">Clue</a></span><ul class=\"toc-item\"><li><span><a href=\"#Read-this-article-on-P-Hacking:-https://fivethirtyeight.com/features/science-isnt-broken/\" data-toc-modified-id=\"Read-this-article-on-P-Hacking:-https://fivethirtyeight.com/features/science-isnt-broken/-1.2.1\">Read this article on P-Hacking: <a href=\"https://fivethirtyeight.com/features/science-isnt-broken/\" target=\"_blank\">https://fivethirtyeight.com/features/science-isnt-broken/</a></a></span></li></ul></li></ul></li></ul></div>"
   ]
  },
  {
   "cell_type": "markdown",
   "metadata": {},
   "source": [
    "Politicians Module\n",
    "=============\n",
    "\n",
    "\n",
    "### Instructions / Notes:\n",
    "\n",
    "**_Read these carefully_**\n",
    "\n",
    "* Read and execute each cell in order, without skipping forward\n",
    "* You **may** create new Jupyter notebook cells to use for e.g. testing, debugging, exploring, etc.- this is encouraged in fact!- **just make sure that your final answer dataframes and answers use the set variables outlined below**\n",
    "* _Have fun!_"
   ]
  },
  {
   "cell_type": "code",
   "execution_count": 1,
   "metadata": {},
   "outputs": [
    {
     "data": {
      "text/html": [
       "<div>\n",
       "<style>\n",
       "    .dataframe thead tr:only-child th {\n",
       "        text-align: right;\n",
       "    }\n",
       "\n",
       "    .dataframe thead th {\n",
       "        text-align: left;\n",
       "    }\n",
       "\n",
       "    .dataframe tbody tr th {\n",
       "        vertical-align: top;\n",
       "    }\n",
       "</style>\n",
       "<table border=\"1\" class=\"dataframe\">\n",
       "  <thead>\n",
       "    <tr style=\"text-align: right;\">\n",
       "      <th></th>\n",
       "      <th>Year</th>\n",
       "      <th>Dem_Presidents</th>\n",
       "      <th>Rep_Presidents</th>\n",
       "      <th>Dem_Governors</th>\n",
       "      <th>Rep_Governors</th>\n",
       "      <th>Employment</th>\n",
       "      <th>GDP</th>\n",
       "    </tr>\n",
       "  </thead>\n",
       "  <tbody>\n",
       "    <tr>\n",
       "      <th>0</th>\n",
       "      <td>1</td>\n",
       "      <td>1</td>\n",
       "      <td>0</td>\n",
       "      <td>5</td>\n",
       "      <td>45</td>\n",
       "      <td>10.0</td>\n",
       "      <td>800</td>\n",
       "    </tr>\n",
       "    <tr>\n",
       "      <th>1</th>\n",
       "      <td>2</td>\n",
       "      <td>1</td>\n",
       "      <td>0</td>\n",
       "      <td>10</td>\n",
       "      <td>40</td>\n",
       "      <td>9.0</td>\n",
       "      <td>120</td>\n",
       "    </tr>\n",
       "    <tr>\n",
       "      <th>2</th>\n",
       "      <td>3</td>\n",
       "      <td>1</td>\n",
       "      <td>0</td>\n",
       "      <td>15</td>\n",
       "      <td>35</td>\n",
       "      <td>9.0</td>\n",
       "      <td>130</td>\n",
       "    </tr>\n",
       "    <tr>\n",
       "      <th>3</th>\n",
       "      <td>4</td>\n",
       "      <td>1</td>\n",
       "      <td>0</td>\n",
       "      <td>20</td>\n",
       "      <td>30</td>\n",
       "      <td>28.0</td>\n",
       "      <td>170</td>\n",
       "    </tr>\n",
       "    <tr>\n",
       "      <th>4</th>\n",
       "      <td>5</td>\n",
       "      <td>1</td>\n",
       "      <td>0</td>\n",
       "      <td>30</td>\n",
       "      <td>20</td>\n",
       "      <td>7.0</td>\n",
       "      <td>150</td>\n",
       "    </tr>\n",
       "  </tbody>\n",
       "</table>\n",
       "</div>"
      ],
      "text/plain": [
       "   Year  Dem_Presidents  Rep_Presidents  Dem_Governors  Rep_Governors  \\\n",
       "0     1               1               0              5             45   \n",
       "1     2               1               0             10             40   \n",
       "2     3               1               0             15             35   \n",
       "3     4               1               0             20             30   \n",
       "4     5               1               0             30             20   \n",
       "\n",
       "   Employment  GDP  \n",
       "0        10.0  800  \n",
       "1         9.0  120  \n",
       "2         9.0  130  \n",
       "3        28.0  170  \n",
       "4         7.0  150  "
      ]
     },
     "execution_count": 1,
     "metadata": {},
     "output_type": "execute_result"
    }
   ],
   "source": [
    "# Run the following to import necessary packages and import dataset. Do not use any additional plotting libraries.\n",
    "import pandas as pd\n",
    "\n",
    "from modules.util_politicians import evaluate, toggle_display\n",
    "\n",
    "dataset = \"dataset/politicians.csv\"\n",
    "df = pd.read_csv(dataset)\n",
    "df.head()"
   ]
  },
  {
   "cell_type": "markdown",
   "metadata": {},
   "source": [
    "## Try to find publishable (i.e., statistically significant) results about the U.S. economy and which politicians are in charge"
   ]
  },
  {
   "cell_type": "code",
   "execution_count": 5,
   "metadata": {},
   "outputs": [
    {
     "name": "stdout",
     "output_type": "stream",
     "text": [
      "Analyzing Party: Democrats\n"
     ]
    },
    {
     "data": {
      "application/vnd.jupyter.widget-view+json": {
       "model_id": "0b15b22fa8db440893ca626323068fc7",
       "version_major": 2,
       "version_minor": 0
      },
      "text/plain": [
       "A Jupyter Widget"
      ]
     },
     "metadata": {},
     "output_type": "display_data"
    },
    {
     "data": {
      "application/vnd.jupyter.widget-view+json": {
       "model_id": "11669050050b4e579ccf301c1328c669",
       "version_major": 2,
       "version_minor": 0
      },
      "text/plain": [
       "A Jupyter Widget"
      ]
     },
     "metadata": {},
     "output_type": "display_data"
    },
    {
     "data": {
      "application/vnd.jupyter.widget-view+json": {
       "model_id": "da7d45cd0cfd4a29b407ffa680949ef7",
       "version_major": 2,
       "version_minor": 0
      },
      "text/plain": [
       "A Jupyter Widget"
      ]
     },
     "metadata": {},
     "output_type": "display_data"
    }
   ],
   "source": [
    "d_politicians, d_economy, d_outliers = toggle_display('Democrats')"
   ]
  },
  {
   "cell_type": "markdown",
   "metadata": {},
   "source": [
    "Toggle the variables above and run the ```evaluate()``` function until you find a publishable result!"
   ]
  },
  {
   "cell_type": "code",
   "execution_count": 10,
   "metadata": {},
   "outputs": [
    {
     "name": "stdout",
     "output_type": "stream",
     "text": [
      "Dem_Governors\n",
      "GDP\n",
      "Exclude\n"
     ]
    },
    {
     "data": {
      "image/png": "[encoded data removed]",
      "text/plain": [
       "<matplotlib.figure.Figure at 0x1d465e1ccf8>"
      ]
     },
     "metadata": {},
     "output_type": "display_data"
    },
    {
     "name": "stdout",
     "output_type": "stream",
     "text": [
      "Correlation 0.868813280324 P-value 5.51446043268e-05\n",
      "Part 1 : Democrats have a positive impact on the economy!\n",
      "By achieving a p-value of less than 0.05, your result is publishable!\n"
     ]
    }
   ],
   "source": [
    "# Part 1 Democrats\n",
    "d_pval, d_corr = evaluate(df, 'Democrats', d_politicians, d_economy, d_outliers, 1)"
   ]
  },
  {
   "cell_type": "code",
   "execution_count": null,
   "metadata": {
    "collapsed": true
   },
   "outputs": [],
   "source": [
    "r_politicians, r_economy, r_outliers = toggle_display('republican')"
   ]
  },
  {
   "cell_type": "markdown",
   "metadata": {},
   "source": [
    "Toggle the variables above and run ```evaluate``` until you find a publishable result!"
   ]
  },
  {
   "cell_type": "code",
   "execution_count": null,
   "metadata": {
    "collapsed": true
   },
   "outputs": [],
   "source": [
    "# Part 1 Republicans\n",
    "r_pval, r_corr = evaluate(df, 'Republicans', r_politicians, r_economy, r_outliers, 1)"
   ]
  },
  {
   "cell_type": "markdown",
   "metadata": {},
   "source": [
    "## Clue\n",
    "### Read this article on P-Hacking: https://fivethirtyeight.com/features/science-isnt-broken/\n",
    "If you found that both parties impact the economy positively or negatively, try again below to show that one party is better than the other on the economy.\n",
    "If you already found one party is better than the other, try again below to find the opposite relationship.\n"
   ]
  },
  {
   "cell_type": "code",
   "execution_count": null,
   "metadata": {
    "collapsed": true
   },
   "outputs": [],
   "source": [
    "d_politicians_clue, d_economy_clue, d_outliers_clue = toggle_display('Democrats')"
   ]
  },
  {
   "cell_type": "code",
   "execution_count": null,
   "metadata": {
    "collapsed": true
   },
   "outputs": [],
   "source": [
    "# Part 2 Democrats\n",
    "d_pval_clue, d_corr_clue = evaluate(df, 'Democrats', d_politicians_clue, d_economy_clue, d_outliers_clue, 2)"
   ]
  },
  {
   "cell_type": "code",
   "execution_count": null,
   "metadata": {
    "collapsed": true
   },
   "outputs": [],
   "source": [
    "r_politicians_clue, r_economy_clue, r_outliers_clue = toggle_display('republican')"
   ]
  },
  {
   "cell_type": "code",
   "execution_count": null,
   "metadata": {
    "collapsed": true
   },
   "outputs": [],
   "source": [
    "# Part 2 Republicans\n",
    "r_pval_clue, r_corr_clue = evaluate(df, 'Republicans', r_politicians_clue, r_economy_clue, r_outliers_clue, 2)"
   ]
  },
  {
   "cell_type": "code",
   "execution_count": null,
   "metadata": {
    "collapsed": true
   },
   "outputs": [],
   "source": []
  }
 ],
 "metadata": {
  "kernelspec": {
   "display_name": "Python 3",
   "language": "python",
   "name": "python3"
  },
  "language_info": {
   "codemirror_mode": {
    "name": "ipython",
    "version": 3
   },
   "file_extension": ".py",
   "mimetype": "text/x-python",
   "name": "python",
   "nbconvert_exporter": "python",
   "pygments_lexer": "ipython3",
   "version": "3.6.1"
  },
  "toc": {
   "nav_menu": {},
   "number_sections": false,
   "sideBar": true,
   "skip_h1_title": false,
   "toc_cell": true,
   "toc_position": {},
   "toc_section_display": "block",
   "toc_window_display": false
  }
 },
 "nbformat": 4,
 "nbformat_minor": 2
}

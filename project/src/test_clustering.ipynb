{
 "cells": [
  {
   "cell_type": "code",
   "execution_count": 1,
   "metadata": {},
   "outputs": [],
   "source": [
    "import numpy as np\n",
    "import pandas as pd\n",
    "import pycountry as pyc\n",
    "import os\n",
    "import plotly\n",
    "import telepyth\n",
    "import datetime\n",
    "\n",
    "import plotly.plotly as py\n",
    "from plotly.graph_objs import Choropleth\n",
    "from plotly.offline import init_notebook_mode, iplot\n",
    "from IPython.display import display, HTML\n",
    "\n",
    "import matplotlib.pyplot as plt\n",
    "%matplotlib inline"
   ]
  },
  {
   "cell_type": "code",
   "execution_count": 2,
   "metadata": {},
   "outputs": [
    {
     "data": {
      "text/html": [
       "<script>requirejs.config({paths: { 'plotly': ['https://cdn.plot.ly/plotly-latest.min']},});if(!window.Plotly) {{require(['plotly'],function(plotly) {window.Plotly=plotly;});}}</script>"
      ],
      "text/vnd.plotly.v1+html": [
       "<script>requirejs.config({paths: { 'plotly': ['https://cdn.plot.ly/plotly-latest.min']},});if(!window.Plotly) {{require(['plotly'],function(plotly) {window.Plotly=plotly;});}}</script>"
      ]
     },
     "metadata": {},
     "output_type": "display_data"
    }
   ],
   "source": [
    "init_notebook_mode(connected=True)"
   ]
  },
  {
   "cell_type": "code",
   "execution_count": 3,
   "metadata": {},
   "outputs": [],
   "source": [
    "from sklearn import linear_model"
   ]
  },
  {
   "cell_type": "code",
   "execution_count": 4,
   "metadata": {},
   "outputs": [],
   "source": [
    "start_date = datetime.datetime(2015, 3, 1)\n",
    "end_date = datetime.datetime(2017, 12, 1)\n",
    "\n",
    "n_months = (end_date - start_date).days * 12 // 365\n",
    "\n",
    "dates = []\n",
    "for i in range(n_months):\n",
    "    index = start_date.month - 1 + i\n",
    "    month = index % 12 + 1\n",
    "    year = start_date.year + index // 12\n",
    "    date = \"{}_{:02d}\".format(year, month)\n",
    "    dates.append(date)"
   ]
  },
  {
   "cell_type": "code",
   "execution_count": 5,
   "metadata": {},
   "outputs": [],
   "source": [
    "df = pd.read_csv(os.path.realpath('/Users/maximedelisle/Downloads/translingual_all_fully_cleaned_no_url.csv'), encoding='utf-8')"
   ]
  },
  {
   "cell_type": "code",
   "execution_count": 6,
   "metadata": {},
   "outputs": [],
   "source": [
    "def select_events(df, feature, selector):\n",
    "    '''Example of use : select_events(selected_df, 'EventCode', lambda x: x[:2] == '08')'''\n",
    "    return df[df[feature].apply(selector)]"
   ]
  },
  {
   "cell_type": "code",
   "execution_count": 7,
   "metadata": {},
   "outputs": [],
   "source": [
    "main_target = df['Target_CountryCode'].value_counts().index[:3]"
   ]
  },
  {
   "cell_type": "code",
   "execution_count": 8,
   "metadata": {},
   "outputs": [
    {
     "name": "stdout",
     "output_type": "stream",
     "text": [
      "Target USA\n"
     ]
    },
    {
     "name": "stderr",
     "output_type": "stream",
     "text": [
      "/Users/maximedelisle/anaconda/lib/python3.6/site-packages/ipykernel_launcher.py:5: SettingWithCopyWarning:\n",
      "\n",
      "\n",
      "A value is trying to be set on a copy of a slice from a DataFrame.\n",
      "Try using .loc[row_indexer,col_indexer] = value instead\n",
      "\n",
      "See the caveats in the documentation: http://pandas.pydata.org/pandas-docs/stable/indexing.html#indexing-view-versus-copy\n",
      "\n",
      "/Users/maximedelisle/anaconda/lib/python3.6/site-packages/sklearn/linear_model/coordinate_descent.py:491: ConvergenceWarning:\n",
      "\n",
      "Objective did not converge. You might want to increase the number of iterations. Fitting data with very small alpha may cause precision problems.\n",
      "\n"
     ]
    },
    {
     "name": "stdout",
     "output_type": "stream",
     "text": [
      "Target RUS\n",
      "Target UKR\n"
     ]
    }
   ],
   "source": [
    "dico = {}\n",
    "for target in main_target:\n",
    "    print('Target', target)\n",
    "    df_main = select_events(df, 'Target_CountryCode', lambda x: x == target)\n",
    "    df_main['Year_Month'] = df_main['Day'].apply(str).apply(lambda x: x[:4] + '_' + x[4:6])\n",
    "    df_aggregated = pd.pivot_table(df_main, values='AvgTone', index=['Source_CountryCode'], columns=['Year_Month'])\n",
    "    test_df = df_aggregated[dates].dropna(axis=0)\n",
    "    for name, values in zip(test_df.index, test_df.values):\n",
    "        x = list(range(len(values)))\n",
    "        X = np.array([[a**i for a in x] for i in range(5)]).T\n",
    "        y = values\n",
    "        ransac_model = linear_model.Lasso()\n",
    "        ransac_model.fit(X, y)\n",
    "        weights = ransac_model.coef_\n",
    "        if name in dico:\n",
    "            dico[name] = np.append(dico[name], weights.reshape((1, 5)))\n",
    "        else:\n",
    "            dico[name] = weights.reshape((1, 5))"
   ]
  },
  {
   "cell_type": "code",
   "execution_count": 9,
   "metadata": {},
   "outputs": [],
   "source": [
    "from sklearn import cluster"
   ]
  },
  {
   "cell_type": "code",
   "execution_count": 10,
   "metadata": {},
   "outputs": [],
   "source": [
    "clusters = cluster.AffinityPropagation()"
   ]
  },
  {
   "cell_type": "code",
   "execution_count": 11,
   "metadata": {},
   "outputs": [],
   "source": [
    "X = []\n",
    "label = []\n",
    "for name, elem in zip(dico.keys(), dico.values()):\n",
    "    if len(elem) > 14:\n",
    "        X.append(elem)\n",
    "        label.append(name)"
   ]
  },
  {
   "cell_type": "code",
   "execution_count": 12,
   "metadata": {},
   "outputs": [
    {
     "data": {
      "text/plain": [
       "AffinityPropagation(affinity='euclidean', convergence_iter=15, copy=True,\n",
       "          damping=0.5, max_iter=200, preference=None, verbose=False)"
      ]
     },
     "execution_count": 12,
     "metadata": {},
     "output_type": "execute_result"
    }
   ],
   "source": [
    "clusters.fit(X)"
   ]
  },
  {
   "cell_type": "code",
   "execution_count": 13,
   "metadata": {},
   "outputs": [],
   "source": [
    "X = np.array(X)"
   ]
  },
  {
   "cell_type": "code",
   "execution_count": 14,
   "metadata": {},
   "outputs": [
    {
     "name": "stdout",
     "output_type": "stream",
     "text": [
      "Estimated number of clusters: 12\n",
      "Silhouette Coefficient: 0.465\n"
     ]
    },
    {
     "data": {
      "image/png": "[encoded data removed]",
      "text/plain": [
       "<matplotlib.figure.Figure at 0x13e67a128>"
      ]
     },
     "metadata": {},
     "output_type": "display_data"
    }
   ],
   "source": [
    "from sklearn import metrics\n",
    "\n",
    "cluster_centers_indices = clusters.cluster_centers_indices_\n",
    "labels = clusters.labels_\n",
    "\n",
    "n_clusters_ = len(cluster_centers_indices)\n",
    "\n",
    "print('Estimated number of clusters: %d' % n_clusters_)\n",
    "print(\"Silhouette Coefficient: %0.3f\"\n",
    "      % metrics.silhouette_score(X, labels, metric='sqeuclidean'))\n",
    "\n",
    "# #############################################################################\n",
    "# Plot result\n",
    "import matplotlib.pyplot as plt\n",
    "from itertools import cycle\n",
    "\n",
    "plt.close('all')\n",
    "plt.figure(1)\n",
    "plt.clf()\n",
    "a1 = 12\n",
    "a2 = 2\n",
    "\n",
    "colors = cycle('bgrcmykbgrcmykbgrcmykbgrcmyk')\n",
    "for k, col in zip(range(n_clusters_), colors):\n",
    "    class_members = labels == k\n",
    "    cluster_center = X[cluster_centers_indices[k]]\n",
    "    plt.plot(X[class_members, a1], X[class_members, a2], col + '.')\n",
    "    plt.plot(cluster_center[a1], cluster_center[a2], 'o', markerfacecolor=col,\n",
    "             markeredgecolor='k', markersize=14)\n",
    "    for x in X[class_members]:\n",
    "        plt.plot([cluster_center[a1], x[a1]], [cluster_center[a2], x[a2]], col)\n",
    "\n",
    "plt.title('Estimated number of clusters: %d' % n_clusters_)\n",
    "plt.show()"
   ]
  },
  {
   "cell_type": "code",
   "execution_count": 25,
   "metadata": {},
   "outputs": [],
   "source": [
    "def cca3_to_country(code):\n",
    "    if code == 'UNK':\n",
    "        return 'Kosovo'\n",
    "    return pyc.countries.get(alpha_3=code).name"
   ]
  },
  {
   "cell_type": "code",
   "execution_count": 26,
   "metadata": {},
   "outputs": [
    {
     "name": "stdout",
     "output_type": "stream",
     "text": [
      "['Afghanistan']\n",
      "['Belgium', 'Belarus', 'Switzerland', 'Colombia', 'Cyprus', 'France', 'United Kingdom', 'Korea, Republic of', 'Lebanon', 'Norway', 'United States']\n",
      "['Bosnia and Herzegovina', 'China', 'Georgia', 'Kazakhstan', 'Kyrgyzstan', 'Turkey']\n",
      "['Egypt', 'India', 'Jordan', 'Saudi Arabia']\n",
      "['Bolivia, Plurinational State of', 'Brazil', 'Canada', 'Finland', 'Mexico', 'Slovenia']\n",
      "['Albania', 'Argentina', 'Germany', 'Croatia', 'Hungary', 'Luxembourg', 'Poland', 'Uruguay', 'Venezuela, Bolivarian Republic of']\n",
      "['Indonesia']\n",
      "['Armenia', 'Austria', 'Azerbaijan', 'Bulgaria', 'Cuba', 'Czechia', 'Denmark', 'Algeria', 'Spain', 'Estonia', 'Greece', 'Israel', 'Italy', 'Lithuania', 'Latvia', 'Morocco', 'Moldova, Republic of', 'Palestine, State of', 'Russian Federation', 'Slovakia', 'Sweden', 'Tajikistan', 'Turkmenistan', 'Tuvalu', 'Ukraine']\n",
      "['Montenegro']\n",
      "['United Arab Emirates', 'Netherlands', 'Portugal']\n",
      "['Chile', 'Iraq', 'Pakistan', 'Peru', 'Qatar']\n",
      "['Micronesia, Federated States of', 'Iran, Islamic Republic of', 'Macedonia, Republic of', 'Romania', 'Serbia', 'Kosovo', 'Uzbekistan']\n"
     ]
    }
   ],
   "source": [
    "for i in range(12):\n",
    "    print([cca3_to_country(code) for code in np.array(label)[labels == i]])"
   ]
  },
  {
   "cell_type": "code",
   "execution_count": null,
   "metadata": {},
   "outputs": [],
   "source": []
  }
 ],
 "metadata": {
  "kernelspec": {
   "display_name": "Python 3",
   "language": "python",
   "name": "python3"
  },
  "language_info": {
   "codemirror_mode": {
    "name": "ipython",
    "version": 3
   },
   "file_extension": ".py",
   "mimetype": "text/x-python",
   "name": "python",
   "nbconvert_exporter": "python",
   "pygments_lexer": "ipython3",
   "version": "3.6.3"
  }
 },
 "nbformat": 4,
 "nbformat_minor": 2
}

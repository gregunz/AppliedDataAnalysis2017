{
 "cells": [
  {
   "cell_type": "code",
   "execution_count": 1,
   "metadata": {},
   "outputs": [],
   "source": [
    "import requests\n",
    "import pandas as pd\n",
    "import re\n",
    "\n",
    "from fetch_gdelt_data import fetch_df\n",
    "from data_cleaning import get_countries_for_dataframe\n",
    "from fetch_source_country import get_all_newspapers_to_country_dict, get_tld_to_country_dict\n",
    "\n",
    "from bs4 import BeautifulSoup"
   ]
  },
  {
   "cell_type": "code",
   "execution_count": 2,
   "metadata": {},
   "outputs": [],
   "source": [
    "website_dict = get_all_newspapers_to_country_dict()"
   ]
  },
  {
   "cell_type": "code",
   "execution_count": 10,
   "metadata": {},
   "outputs": [
    {
     "name": "stdout",
     "output_type": "stream",
     "text": [
      "downloading files...\n",
      "File not found on server http://data.gdeltproject.org/gdeltv2/ : 20171124014500.export.CSV.zip\n",
      "File not found on server http://data.gdeltproject.org/gdeltv2/ : 20171124034500.export.CSV.zip\n",
      "File not found on server http://data.gdeltproject.org/gdeltv2/ : 20171124060000.export.CSV.zip\n",
      "File not found on server http://data.gdeltproject.org/gdeltv2/ : 20171124064500.export.CSV.zip\n",
      "File not found on server http://data.gdeltproject.org/gdeltv2/ : 20171124101500.export.CSV.zip\n",
      "File not found on server http://data.gdeltproject.org/gdeltv2/ : 20171124103000.export.CSV.zip\n",
      "File not found on server http://data.gdeltproject.org/gdeltv2/ : 20171124153000.export.CSV.zip\n",
      "File not found on server http://data.gdeltproject.org/gdeltv2/ : 20171124220000.export.CSV.zip\n"
     ]
    }
   ],
   "source": [
    "data_test = fetch_df(pd.to_datetime('20171124'))\n",
    "test_url = data_test[[\"SOURCEURL\"]]"
   ]
  },
  {
   "cell_type": "code",
   "execution_count": 5,
   "metadata": {},
   "outputs": [],
   "source": [
    "#Creation of dictionaries\n",
    "#tld_dict = tld_df.set_index('tld').to_dict().get('Country')\n",
    "tld_dict = get_tld_to_country_dict()"
   ]
  },
  {
   "cell_type": "code",
   "execution_count": 6,
   "metadata": {},
   "outputs": [],
   "source": [
    "prob_df = get_countries_for_dataframe(test_url, 'SOURCEURL', website_dict, tld_dict)"
   ]
  },
  {
   "cell_type": "code",
   "execution_count": 8,
   "metadata": {},
   "outputs": [
    {
     "name": "stdout",
     "output_type": "stream",
     "text": [
      "Accuracy on websites: 100.0\n",
      "Overall Accuracy: 99.21105298872196\n"
     ]
    }
   ],
   "source": [
    "print(\"Accuracy on websites: {}\".format(prob_df[(prob_df != 'UNKNOWN') & (prob_df != 'NOWEBSITE')].value_counts().sum() * 100 / prob_df[prob_df != 'NOWEBSITE'].value_counts().sum()))\n",
    "print(\"Overall Accuracy: {}\".format(prob_df[(prob_df != 'UNKNOWN') & (prob_df != 'NOWEBSITE')].value_counts().sum() * 100 / prob_df.value_counts().sum()))\n",
    "#################\n",
    "#### USA != UNITED STATES?????\n",
    "#################"
   ]
  },
  {
   "cell_type": "code",
   "execution_count": null,
   "metadata": {},
   "outputs": [],
   "source": []
  }
 ],
 "metadata": {
  "kernelspec": {
   "display_name": "Python 3",
   "language": "python",
   "name": "python3"
  },
  "language_info": {
   "codemirror_mode": {
    "name": "ipython",
    "version": 3
   },
   "file_extension": ".py",
   "mimetype": "text/x-python",
   "name": "python",
   "nbconvert_exporter": "python",
   "pygments_lexer": "ipython3",
   "version": "3.6.1"
  }
 },
 "nbformat": 4,
 "nbformat_minor": 2
}

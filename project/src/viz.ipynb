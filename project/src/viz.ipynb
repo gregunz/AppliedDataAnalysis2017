{
 "cells": [
  {
   "cell_type": "code",
   "execution_count": 1,
   "metadata": {},
   "outputs": [
    {
     "name": "stderr",
     "output_type": "stream",
     "text": [
      "Use token from .telepythrc.\n"
     ]
    }
   ],
   "source": [
    "import numpy as np\n",
    "import pandas as pd\n",
    "import pycountry as pyc\n",
    "\n",
    "import plotly\n",
    "import telepyth\n",
    "import datetime\n",
    "\n",
    "import plotly.plotly as py\n",
    "from plotly.graph_objs import Choropleth\n",
    "from plotly.offline import init_notebook_mode, iplot\n",
    "from IPython.display import display, HTML\n"
   ]
  },
  {
   "cell_type": "code",
   "execution_count": 2,
   "metadata": {},
   "outputs": [
    {
     "data": {
      "text/html": [
       "<script>requirejs.config({paths: { 'plotly': ['https://cdn.plot.ly/plotly-latest.min']},});if(!window.Plotly) {{require(['plotly'],function(plotly) {window.Plotly=plotly;});}}</script>"
      ],
      "text/vnd.plotly.v1+html": [
       "<script>requirejs.config({paths: { 'plotly': ['https://cdn.plot.ly/plotly-latest.min']},});if(!window.Plotly) {{require(['plotly'],function(plotly) {window.Plotly=plotly;});}}</script>"
      ]
     },
     "metadata": {},
     "output_type": "display_data"
    }
   ],
   "source": [
    "init_notebook_mode(connected=True)"
   ]
  },
  {
   "cell_type": "code",
   "execution_count": 3,
   "metadata": {
    "collapsed": true
   },
   "outputs": [],
   "source": [
    "#plotly.tools.set_credentials_file(username='gregunz', api_key='9Bjk9dgyfCIwVgunlRj2')"
   ]
  },
  {
   "cell_type": "code",
   "execution_count": 4,
   "metadata": {
    "collapsed": true
   },
   "outputs": [],
   "source": [
    "#export = plotly.offline.plot(data, include_plotlyjs=False, output_type='div')"
   ]
  },
  {
   "cell_type": "code",
   "execution_count": 5,
   "metadata": {
    "collapsed": true
   },
   "outputs": [],
   "source": [
    "start_date = datetime.datetime(2015, 3, 1)\n",
    "end_date = datetime.datetime(2017, 12, 1)\n",
    "\n",
    "n_months = (end_date - start_date).days * 12 // 365\n",
    "\n",
    "dates = []\n",
    "for i in range(n_months):\n",
    "    index = start_date.month - 1 + i\n",
    "    month = index % 12 + 1\n",
    "    year = start_date.year + index // 12\n",
    "    date = \"{}_{:02d}\".format(year, month)\n",
    "    dates.append(date)"
   ]
  },
  {
   "cell_type": "code",
   "execution_count": 6,
   "metadata": {
    "collapsed": true
   },
   "outputs": [],
   "source": [
    "df = pd.read_csv('translingual_all_fully_cleaned_no_url.csv', encoding='utf-8')"
   ]
  },
  {
   "cell_type": "code",
   "execution_count": 7,
   "metadata": {
    "collapsed": true
   },
   "outputs": [],
   "source": [
    "def select_events(df, feature, selector):\n",
    "    '''Example of use : select_events(selected_df, 'EventCode', lambda x: x[:2] == '08')'''\n",
    "    return df[df[feature].apply(selector)]"
   ]
  },
  {
   "cell_type": "code",
   "execution_count": 21,
   "metadata": {},
   "outputs": [],
   "source": [
    "all_countries = [c.alpha_3 for c in pyc.countries]\n",
    "\n",
    "df = select_events(df, 'Target_CountryCode', lambda x: x in all_countries)"
   ]
  },
  {
   "cell_type": "code",
   "execution_count": 22,
   "metadata": {},
   "outputs": [],
   "source": [
    "df['Year_Month'] = df['Day'].apply(str).apply(lambda x: x[:4] + '_' + x[4:6])"
   ]
  },
  {
   "cell_type": "code",
   "execution_count": 23,
   "metadata": {
    "collapsed": true
   },
   "outputs": [],
   "source": [
    "df = select_events(df, 'Year_Month', lambda x: x in dates)"
   ]
  },
  {
   "cell_type": "code",
   "execution_count": 24,
   "metadata": {},
   "outputs": [
    {
     "data": {
      "text/plain": [
       "'finished'"
      ]
     },
     "execution_count": 24,
     "metadata": {},
     "output_type": "execute_result"
    }
   ],
   "source": [
    "%telepyth 'finished'"
   ]
  },
  {
   "cell_type": "code",
   "execution_count": 29,
   "metadata": {
    "collapsed": true
   },
   "outputs": [],
   "source": [
    "# Pivot on countries and average on AvgTone for each month\n",
    "\n",
    "df_aggregated = pd.pivot_table(df, values='AvgTone', index=['Target_CountryCode'], columns=['Year_Month'], aggfunc=np.median)"
   ]
  },
  {
   "cell_type": "code",
   "execution_count": 32,
   "metadata": {},
   "outputs": [
    {
     "data": {
      "text/html": [
       "<div>\n",
       "<style>\n",
       "    .dataframe thead tr:only-child th {\n",
       "        text-align: right;\n",
       "    }\n",
       "\n",
       "    .dataframe thead th {\n",
       "        text-align: left;\n",
       "    }\n",
       "\n",
       "    .dataframe tbody tr th {\n",
       "        vertical-align: top;\n",
       "    }\n",
       "</style>\n",
       "<table border=\"1\" class=\"dataframe\">\n",
       "  <thead>\n",
       "    <tr style=\"text-align: right;\">\n",
       "      <th>Year_Month</th>\n",
       "      <th>2015_03</th>\n",
       "      <th>2015_04</th>\n",
       "      <th>2015_05</th>\n",
       "      <th>2015_06</th>\n",
       "      <th>2015_07</th>\n",
       "      <th>2015_08</th>\n",
       "      <th>2015_09</th>\n",
       "      <th>2015_10</th>\n",
       "      <th>2015_11</th>\n",
       "      <th>2015_12</th>\n",
       "      <th>...</th>\n",
       "      <th>2017_02</th>\n",
       "      <th>2017_03</th>\n",
       "      <th>2017_04</th>\n",
       "      <th>2017_05</th>\n",
       "      <th>2017_06</th>\n",
       "      <th>2017_07</th>\n",
       "      <th>2017_08</th>\n",
       "      <th>2017_09</th>\n",
       "      <th>2017_10</th>\n",
       "      <th>2017_11</th>\n",
       "    </tr>\n",
       "    <tr>\n",
       "      <th>Target_CountryCode</th>\n",
       "      <th></th>\n",
       "      <th></th>\n",
       "      <th></th>\n",
       "      <th></th>\n",
       "      <th></th>\n",
       "      <th></th>\n",
       "      <th></th>\n",
       "      <th></th>\n",
       "      <th></th>\n",
       "      <th></th>\n",
       "      <th></th>\n",
       "      <th></th>\n",
       "      <th></th>\n",
       "      <th></th>\n",
       "      <th></th>\n",
       "      <th></th>\n",
       "      <th></th>\n",
       "      <th></th>\n",
       "      <th></th>\n",
       "      <th></th>\n",
       "      <th></th>\n",
       "    </tr>\n",
       "  </thead>\n",
       "  <tbody>\n",
       "    <tr>\n",
       "      <th>AFG</th>\n",
       "      <td>-2.990518</td>\n",
       "      <td>-4.407713</td>\n",
       "      <td>-3.254438</td>\n",
       "      <td>-3.940425</td>\n",
       "      <td>-3.322259</td>\n",
       "      <td>-4.026846</td>\n",
       "      <td>-3.533569</td>\n",
       "      <td>-3.459119</td>\n",
       "      <td>-3.730006</td>\n",
       "      <td>-3.536902</td>\n",
       "      <td>...</td>\n",
       "      <td>-4.000000</td>\n",
       "      <td>-3.658537</td>\n",
       "      <td>-3.831041</td>\n",
       "      <td>-3.947368</td>\n",
       "      <td>-4.642166</td>\n",
       "      <td>-4.337375</td>\n",
       "      <td>-3.879310</td>\n",
       "      <td>-3.009205</td>\n",
       "      <td>-3.878903</td>\n",
       "      <td>-3.225806</td>\n",
       "    </tr>\n",
       "    <tr>\n",
       "      <th>AGO</th>\n",
       "      <td>0.165289</td>\n",
       "      <td>0.348432</td>\n",
       "      <td>0.333333</td>\n",
       "      <td>0.460299</td>\n",
       "      <td>0.491400</td>\n",
       "      <td>0.307692</td>\n",
       "      <td>0.449438</td>\n",
       "      <td>-0.694444</td>\n",
       "      <td>0.414938</td>\n",
       "      <td>0.352113</td>\n",
       "      <td>...</td>\n",
       "      <td>0.484264</td>\n",
       "      <td>0.000000</td>\n",
       "      <td>0.291758</td>\n",
       "      <td>0.000000</td>\n",
       "      <td>0.000000</td>\n",
       "      <td>0.579715</td>\n",
       "      <td>0.354927</td>\n",
       "      <td>0.000000</td>\n",
       "      <td>0.000000</td>\n",
       "      <td>-0.363641</td>\n",
       "    </tr>\n",
       "    <tr>\n",
       "      <th>ALB</th>\n",
       "      <td>-1.783841</td>\n",
       "      <td>-1.195219</td>\n",
       "      <td>-1.608911</td>\n",
       "      <td>-1.089588</td>\n",
       "      <td>-1.233767</td>\n",
       "      <td>-1.851852</td>\n",
       "      <td>-1.497006</td>\n",
       "      <td>-1.704545</td>\n",
       "      <td>-2.076843</td>\n",
       "      <td>-1.670061</td>\n",
       "      <td>...</td>\n",
       "      <td>-1.469551</td>\n",
       "      <td>-1.559454</td>\n",
       "      <td>-2.263900</td>\n",
       "      <td>-0.756144</td>\n",
       "      <td>-1.073086</td>\n",
       "      <td>-1.302932</td>\n",
       "      <td>-2.439024</td>\n",
       "      <td>-0.346021</td>\n",
       "      <td>-1.199315</td>\n",
       "      <td>-2.517033</td>\n",
       "    </tr>\n",
       "    <tr>\n",
       "      <th>ARE</th>\n",
       "      <td>2.048857</td>\n",
       "      <td>2.247191</td>\n",
       "      <td>2.318841</td>\n",
       "      <td>2.409639</td>\n",
       "      <td>2.256169</td>\n",
       "      <td>1.969904</td>\n",
       "      <td>1.709402</td>\n",
       "      <td>2.242152</td>\n",
       "      <td>2.500000</td>\n",
       "      <td>2.765296</td>\n",
       "      <td>...</td>\n",
       "      <td>1.564945</td>\n",
       "      <td>2.001557</td>\n",
       "      <td>1.866446</td>\n",
       "      <td>1.630435</td>\n",
       "      <td>0.414938</td>\n",
       "      <td>0.790429</td>\n",
       "      <td>1.203784</td>\n",
       "      <td>1.844262</td>\n",
       "      <td>2.083333</td>\n",
       "      <td>1.931330</td>\n",
       "    </tr>\n",
       "    <tr>\n",
       "      <th>ARG</th>\n",
       "      <td>-1.743462</td>\n",
       "      <td>-1.041667</td>\n",
       "      <td>-0.716846</td>\n",
       "      <td>-0.746269</td>\n",
       "      <td>-0.540541</td>\n",
       "      <td>-1.131222</td>\n",
       "      <td>-0.922610</td>\n",
       "      <td>-0.668648</td>\n",
       "      <td>-0.631313</td>\n",
       "      <td>-0.902935</td>\n",
       "      <td>...</td>\n",
       "      <td>-1.176471</td>\n",
       "      <td>-1.336898</td>\n",
       "      <td>-1.390645</td>\n",
       "      <td>-1.023018</td>\n",
       "      <td>-1.162791</td>\n",
       "      <td>-1.435407</td>\n",
       "      <td>-1.431093</td>\n",
       "      <td>-1.399213</td>\n",
       "      <td>-1.193317</td>\n",
       "      <td>-1.601831</td>\n",
       "    </tr>\n",
       "  </tbody>\n",
       "</table>\n",
       "<p>5 rows × 33 columns</p>\n",
       "</div>"
      ],
      "text/plain": [
       "Year_Month           2015_03   2015_04   2015_05   2015_06   2015_07  \\\n",
       "Target_CountryCode                                                     \n",
       "AFG                -2.990518 -4.407713 -3.254438 -3.940425 -3.322259   \n",
       "AGO                 0.165289  0.348432  0.333333  0.460299  0.491400   \n",
       "ALB                -1.783841 -1.195219 -1.608911 -1.089588 -1.233767   \n",
       "ARE                 2.048857  2.247191  2.318841  2.409639  2.256169   \n",
       "ARG                -1.743462 -1.041667 -0.716846 -0.746269 -0.540541   \n",
       "\n",
       "Year_Month           2015_08   2015_09   2015_10   2015_11   2015_12  \\\n",
       "Target_CountryCode                                                     \n",
       "AFG                -4.026846 -3.533569 -3.459119 -3.730006 -3.536902   \n",
       "AGO                 0.307692  0.449438 -0.694444  0.414938  0.352113   \n",
       "ALB                -1.851852 -1.497006 -1.704545 -2.076843 -1.670061   \n",
       "ARE                 1.969904  1.709402  2.242152  2.500000  2.765296   \n",
       "ARG                -1.131222 -0.922610 -0.668648 -0.631313 -0.902935   \n",
       "\n",
       "Year_Month            ...      2017_02   2017_03   2017_04   2017_05  \\\n",
       "Target_CountryCode    ...                                              \n",
       "AFG                   ...    -4.000000 -3.658537 -3.831041 -3.947368   \n",
       "AGO                   ...     0.484264  0.000000  0.291758  0.000000   \n",
       "ALB                   ...    -1.469551 -1.559454 -2.263900 -0.756144   \n",
       "ARE                   ...     1.564945  2.001557  1.866446  1.630435   \n",
       "ARG                   ...    -1.176471 -1.336898 -1.390645 -1.023018   \n",
       "\n",
       "Year_Month           2017_06   2017_07   2017_08   2017_09   2017_10   2017_11  \n",
       "Target_CountryCode                                                              \n",
       "AFG                -4.642166 -4.337375 -3.879310 -3.009205 -3.878903 -3.225806  \n",
       "AGO                 0.000000  0.579715  0.354927  0.000000  0.000000 -0.363641  \n",
       "ALB                -1.073086 -1.302932 -2.439024 -0.346021 -1.199315 -2.517033  \n",
       "ARE                 0.414938  0.790429  1.203784  1.844262  2.083333  1.931330  \n",
       "ARG                -1.162791 -1.435407 -1.431093 -1.399213 -1.193317 -1.601831  \n",
       "\n",
       "[5 rows x 33 columns]"
      ]
     },
     "execution_count": 32,
     "metadata": {},
     "output_type": "execute_result"
    }
   ],
   "source": [
    "df_aggregated.head()"
   ]
  },
  {
   "cell_type": "code",
   "execution_count": 84,
   "metadata": {
    "collapsed": true
   },
   "outputs": [],
   "source": [
    "df_world = np.median(df_aggregated.dropna().values, axis=0)"
   ]
  },
  {
   "cell_type": "markdown",
   "metadata": {},
   "source": [
    "# WORLD MAP"
   ]
  },
  {
   "cell_type": "code",
   "execution_count": 28,
   "metadata": {},
   "outputs": [],
   "source": [
    "from viz import world_map_figure\n",
    "\n",
    "colorscale_perso = [[0.0, 'rgb(165,0,38)'], [0.1111111111111111, 'rgb(215,48,39)'], [0.2222222222222222, 'rgb(244,109,67)'], [0.3333333333333333, 'rgb(253,174,97)'], [0.4444444444444444, 'rgb(254,224,144)'], [0.5555555555555556, 'rgb(224,243,248)'], [0.6666666666666666, 'rgb(171,217,233)'], [0.7777777777777778, 'rgb(116,173,209)'], [0.8888888888888888, 'rgb(69,117,180)'], [1.0, 'rgb(49,54,149)']]\n",
    "\n",
    "default_colorscale = [[0,\"rgb(5, 10, 172)\"],[0.35,\"rgb(40, 60, 190)\"],[0.5,\"rgb(70, 100, 245)\"],\\\n",
    "            [0.6,\"rgb(90, 120, 245)\"],[0.7,\"rgb(106, 137, 247)\"],[1,\"rgb(220, 220, 220)\"]],\n",
    "\n",
    "zmin = df_aggregated.min()\n",
    "zmax = df_aggregated.max()\n"
   ]
  },
  {
   "cell_type": "code",
   "execution_count": null,
   "metadata": {
    "collapsed": true
   },
   "outputs": [],
   "source": [
    "figure = world_map_figure(frames_title=dates,\n",
    "                          df=df_aggregated.dropna().reset_index(),\n",
    "                          locations_col='Target_CountryCode',\n",
    "                          txt_fn=lambda code: pyc.countries.get(alpha_3=code).name),\n",
    "                          zmin=zmin,\n",
    "                          zmax=zmax, \n",
    "                          colorscale=colorscale_perso)\n",
    "\n",
    "#py.icreate_animations(figure, filename='hello_world', auto_open=False)\n",
    "iplot(figure, validate=False)"
   ]
  },
  {
   "cell_type": "markdown",
   "metadata": {},
   "source": [
    "# export to html"
   ]
  },
  {
   "cell_type": "code",
   "execution_count": 25,
   "metadata": {
    "collapsed": true
   },
   "outputs": [],
   "source": [
    "#print(plotly.offline.plot(figure, include_plotlyjs=False, output_type='div'))"
   ]
  },
  {
   "cell_type": "markdown",
   "metadata": {
    "collapsed": true
   },
   "source": [
    "# ML "
   ]
  },
  {
   "cell_type": "code",
   "execution_count": 87,
   "metadata": {
    "collapsed": true
   },
   "outputs": [],
   "source": [
    "from matplotlib import pyplot as plt\n",
    "from sklearn import linear_model"
   ]
  },
  {
   "cell_type": "code",
   "execution_count": 89,
   "metadata": {},
   "outputs": [
    {
     "ename": "TypeError",
     "evalue": "ridge_regression() missing 3 required positional arguments: 'X', 'y', and 'alpha'",
     "output_type": "error",
     "traceback": [
      "\u001b[1;31m---------------------------------------------------------------------------\u001b[0m",
      "\u001b[1;31mTypeError\u001b[0m                                 Traceback (most recent call last)",
      "\u001b[1;32m<ipython-input-89-02b3d855cbc6>\u001b[0m in \u001b[0;36m<module>\u001b[1;34m()\u001b[0m\n\u001b[0;32m      1\u001b[0m \u001b[0mX\u001b[0m \u001b[1;33m=\u001b[0m \u001b[0mlist\u001b[0m\u001b[1;33m(\u001b[0m\u001b[0mrange\u001b[0m\u001b[1;33m(\u001b[0m\u001b[0mlen\u001b[0m\u001b[1;33m(\u001b[0m\u001b[0mdates\u001b[0m\u001b[1;33m)\u001b[0m\u001b[1;33m)\u001b[0m\u001b[1;33m)\u001b[0m\u001b[1;33m\u001b[0m\u001b[0m\n\u001b[1;32m----> 2\u001b[1;33m \u001b[0msmoothing_model\u001b[0m \u001b[1;33m=\u001b[0m \u001b[0mlinear_model\u001b[0m\u001b[1;33m.\u001b[0m\u001b[0mridge_regression\u001b[0m\u001b[1;33m(\u001b[0m\u001b[1;33m)\u001b[0m\u001b[1;33m\u001b[0m\u001b[0m\n\u001b[0m",
      "\u001b[1;31mTypeError\u001b[0m: ridge_regression() missing 3 required positional arguments: 'X', 'y', and 'alpha'"
     ]
    }
   ],
   "source": []
  },
  {
   "cell_type": "code",
   "execution_count": 100,
   "metadata": {},
   "outputs": [
    {
     "data": {
      "text/plain": [
       "array([-0.591346  , -0.58416777, -0.57698953, -0.5698113 , -0.56263307,\n",
       "       -0.55545483, -0.5482766 , -0.54109836, -0.53392013, -0.52674189,\n",
       "       -0.51956366, -0.51238542, -0.50520719, -0.49802895, -0.49085072,\n",
       "       -0.48367248, -0.47649425, -0.46931601, -0.46213778, -0.45495955,\n",
       "       -0.44778131, -0.44060308, -0.43342484, -0.42624661, -0.41906837,\n",
       "       -0.41189014, -0.4047119 , -0.39753367, -0.39035543, -0.3831772 ,\n",
       "       -0.37599896, -0.36882073, -0.3616425 ])"
      ]
     },
     "execution_count": 100,
     "metadata": {},
     "output_type": "execute_result"
    }
   ],
   "source": [
    "get('FRA')"
   ]
  },
  {
   "cell_type": "code",
   "execution_count": 123,
   "metadata": {
    "scrolled": true
   },
   "outputs": [
    {
     "data": {
      "image/png": "[encoded data removed]",
      "text/plain": [
       "<matplotlib.figure.Figure at 0x1dac7e3d278>"
      ]
     },
     "metadata": {},
     "output_type": "display_data"
    }
   ],
   "source": [
    "def get(c, with_reg=True):\n",
    "    y = df_aggregated.loc[c][dates]\n",
    "    \n",
    "    if not with_reg:\n",
    "        return y\n",
    "    \n",
    "    X = np.arange(len(dates))\n",
    "    X = X.reshape(X.shape + (1,))\n",
    "    X = np.concatenate([X ** i for i in range(8)], axis=1)\n",
    "    alpha = 0.01\n",
    "    smoothing_model = linear_model.Ridge(alpha)\n",
    "    smoothing_model.fit(X, y)\n",
    "    return smoothing_model.predict(X)\n",
    "\n",
    "ls = ['FRA', 'CHE', 'CHN']\n",
    "\n",
    "fig, ax = plt.subplots()\n",
    "ax.plot(np.array([get(l, b) for l in ls for b in [True, False]]).T)\n",
    "ax.legend(ls)\n",
    "plt.show()\n"
   ]
  }
 ],
 "metadata": {
  "kernelspec": {
   "display_name": "Python 3",
   "language": "python",
   "name": "python3"
  },
  "language_info": {
   "codemirror_mode": {
    "name": "ipython",
    "version": 3
   },
   "file_extension": ".py",
   "mimetype": "text/x-python",
   "name": "python",
   "nbconvert_exporter": "python",
   "pygments_lexer": "ipython3",
   "version": "3.6.3"
  }
 },
 "nbformat": 4,
 "nbformat_minor": 2
}

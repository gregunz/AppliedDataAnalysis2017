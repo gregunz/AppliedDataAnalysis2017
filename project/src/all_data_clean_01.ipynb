{
 "cells": [
  {
   "cell_type": "code",
   "execution_count": 11,
   "metadata": {
    "collapsed": true
   },
   "outputs": [],
   "source": [
    "import pandas as pd\n",
    "import datetime\n",
    "\n",
    "from high_level_fetch import get_cleaned_month\n",
    "from tqdm import tqdm_notebook as tqdm"
   ]
  },
  {
   "cell_type": "code",
   "execution_count": 33,
   "metadata": {},
   "outputs": [
    {
     "data": {
      "application/vnd.jupyter.widget-view+json": {
       "model_id": "adfe19d7d41c41e19b9ac7434acc5cea",
       "version_major": 2,
       "version_minor": 0
      },
      "text/plain": [
       "A Jupyter Widget"
      ]
     },
     "metadata": {},
     "output_type": "display_data"
    },
    {
     "name": "stdout",
     "output_type": "stream",
     "text": [
      "3 2015\n",
      "4 2015\n",
      "5 2015\n",
      "6 2015\n",
      "7 2015\n",
      "8 2015\n",
      "9 2015\n",
      "10 2015\n",
      "11 2015\n",
      "12 2015\n",
      "1 2016\n",
      "2 2016\n",
      "3 2016\n",
      "4 2016\n",
      "5 2016\n",
      "6 2016\n",
      "7 2016\n",
      "8 2016\n",
      "9 2016\n",
      "10 2016\n",
      "11 2016\n",
      "12 2016\n",
      "1 2017\n",
      "2 2017\n",
      "3 2017\n",
      "4 2017\n",
      "5 2017\n",
      "6 2017\n",
      "7 2017\n",
      "8 2017\n",
      "9 2017\n",
      "10 2017\n",
      "11 2017\n"
     ]
    }
   ],
   "source": [
    "# WARNING this took ~ 6 hours on my computer\n",
    "\n",
    "start_date = datetime.datetime(2015, 3, 1)\n",
    "end_date = datetime.datetime(2017, 12, 1)\n",
    "\n",
    "n_months = (end_date - start_date).days * 12 // 365\n",
    "\n",
    "for i in tqdm(range(n_months)):\n",
    "    index = start_date.month - 1 + i\n",
    "    \n",
    "    from_month = index % 12 + 1\n",
    "    from_year = start_date.year + index // 12\n",
    "    print(from_month, from_year)\n",
    "    \n",
    "    df = get_cleaned_month(from_month, from_year)\n",
    "    print(\"End cleaning + fetching\")\n",
    "    \n",
    "    with open('gdelt_translingual_all_data_cleaned.csv', 'a', encoding='utf-8') as f:\n",
    "        df.to_csv(f, header=False, encoding='utf-8')\n",
    "        \n",
    "    print(\"End writing\")\n",
    "    "
   ]
  },
  {
   "cell_type": "code",
   "execution_count": null,
   "metadata": {
    "collapsed": true
   },
   "outputs": [],
   "source": []
  }
 ],
 "metadata": {
  "kernelspec": {
   "display_name": "Python 3",
   "language": "python",
   "name": "python3"
  },
  "language_info": {
   "codemirror_mode": {
    "name": "ipython",
    "version": 3
   },
   "file_extension": ".py",
   "mimetype": "text/x-python",
   "name": "python",
   "nbconvert_exporter": "python",
   "pygments_lexer": "ipython3",
   "version": "3.6.3"
  }
 },
 "nbformat": 4,
 "nbformat_minor": 2
}
